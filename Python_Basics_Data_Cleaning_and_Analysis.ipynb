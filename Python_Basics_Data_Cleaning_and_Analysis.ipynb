{
  "nbformat": 4,
  "nbformat_minor": 0,
  "metadata": {
    "colab": {
      "provenance": [],
      "collapsed_sections": [
        "SlFsb2dp9D2j",
        "TxmQvgSC9Dv4",
        "PY8CGfqD9DqC",
        "iXfBEwMx9Dk4",
        "PhbIvnWI9Df7",
        "UiEEO5Xy9Da4"
      ],
      "include_colab_link": true
    },
    "kernelspec": {
      "name": "python3",
      "display_name": "Python 3"
    },
    "language_info": {
      "name": "python"
    }
  },
  "cells": [
    {
      "cell_type": "markdown",
      "metadata": {
        "id": "view-in-github",
        "colab_type": "text"
      },
      "source": [
        "<a href=\"https://colab.research.google.com/github/Eva-Claire/ds-pandas_dataframes-bqs-32/blob/main/Python_Basics_Data_Cleaning_and_Analysis.ipynb\" target=\"_parent\"><img src=\"https://colab.research.google.com/assets/colab-badge.svg\" alt=\"Open In Colab\"/></a>"
      ]
    },
    {
      "cell_type": "markdown",
      "source": [
        "## Data Cleaning Basics"
      ],
      "metadata": {
        "id": "SlFsb2dp9D2j"
      }
    },
    {
      "cell_type": "code",
      "source": [
        "# importing necessary libraries\n",
        "\n",
        "import pandas as pd\n",
        "import numpy as np\n",
        "import matplotlib.pyplot as plt\n",
        "import seaborn as sns"
      ],
      "metadata": {
        "id": "A_YukEDY9KFo"
      },
      "execution_count": null,
      "outputs": []
    },
    {
      "cell_type": "markdown",
      "source": [
        "### Validity"
      ],
      "metadata": {
        "id": "TxmQvgSC9Dv4"
      }
    },
    {
      "cell_type": "markdown",
      "source": [
        "Let's consider what issues you might want to investigate when you're checking the validity of your data\n",
        "\n",
        "*   Irrelevant Data; data that is not actually needed, and doesn’t fit under the context of the problem we’re trying to solve. It's easy to just drop such columns from your datarame\n",
        "\n",
        "*   Syntax Errors e.g white spaces or other characters, typos\n",
        "*   Outliers; values that are significantly different from all other observation. Any data value that lies more than (1.5 * IQR) away from the Q1 and Q3 quartiles is considered an outlier. For example, When one student averages over 90% while the rest of the class is at 40% – a clear outlier. Outliers are innocent until proven guilty. With that being said, they should not be removed unless there is a good reason for that."
      ],
      "metadata": {
        "id": "IlVKONd7--e5"
      }
    },
    {
      "cell_type": "code",
      "source": [
        "# Syntax Errors\n",
        "# Creating the DataFrame to be used\n",
        "syntax_df = {\n",
        "    'County':['     Nairobi     ', ' Machakos       ', ' Kisumu', 'Nakuru       ', 'Naroko '],\n",
        "   'Score':[73, 83, 75, 84, 61]}\n",
        "\n",
        "syntax_df = pd.DataFrame(syntax_df,columns=['County','Score'])\n",
        "syntax_df # Displaying the resulting dataframe"
      ],
      "metadata": {
        "colab": {
          "base_uri": "https://localhost:8080/",
          "height": 206
        },
        "id": "Cefn3CgT9SZq",
        "outputId": "1e439257-06ee-4f13-dca0-3068ccd6a4f4"
      },
      "execution_count": null,
      "outputs": [
        {
          "output_type": "execute_result",
          "data": {
            "text/plain": [
              "              County  Score\n",
              "0       Nairobi          73\n",
              "1    Machakos            83\n",
              "2             Kisumu     75\n",
              "3      Nakuru            84\n",
              "4            Naroko      61"
            ],
            "text/html": [
              "\n",
              "  <div id=\"df-6cd8f879-acad-49a4-b8a8-71b2438ab94f\" class=\"colab-df-container\">\n",
              "    <div>\n",
              "<style scoped>\n",
              "    .dataframe tbody tr th:only-of-type {\n",
              "        vertical-align: middle;\n",
              "    }\n",
              "\n",
              "    .dataframe tbody tr th {\n",
              "        vertical-align: top;\n",
              "    }\n",
              "\n",
              "    .dataframe thead th {\n",
              "        text-align: right;\n",
              "    }\n",
              "</style>\n",
              "<table border=\"1\" class=\"dataframe\">\n",
              "  <thead>\n",
              "    <tr style=\"text-align: right;\">\n",
              "      <th></th>\n",
              "      <th>County</th>\n",
              "      <th>Score</th>\n",
              "    </tr>\n",
              "  </thead>\n",
              "  <tbody>\n",
              "    <tr>\n",
              "      <th>0</th>\n",
              "      <td>Nairobi</td>\n",
              "      <td>73</td>\n",
              "    </tr>\n",
              "    <tr>\n",
              "      <th>1</th>\n",
              "      <td>Machakos</td>\n",
              "      <td>83</td>\n",
              "    </tr>\n",
              "    <tr>\n",
              "      <th>2</th>\n",
              "      <td>Kisumu</td>\n",
              "      <td>75</td>\n",
              "    </tr>\n",
              "    <tr>\n",
              "      <th>3</th>\n",
              "      <td>Nakuru</td>\n",
              "      <td>84</td>\n",
              "    </tr>\n",
              "    <tr>\n",
              "      <th>4</th>\n",
              "      <td>Naroko</td>\n",
              "      <td>61</td>\n",
              "    </tr>\n",
              "  </tbody>\n",
              "</table>\n",
              "</div>\n",
              "    <div class=\"colab-df-buttons\">\n",
              "\n",
              "  <div class=\"colab-df-container\">\n",
              "    <button class=\"colab-df-convert\" onclick=\"convertToInteractive('df-6cd8f879-acad-49a4-b8a8-71b2438ab94f')\"\n",
              "            title=\"Convert this dataframe to an interactive table.\"\n",
              "            style=\"display:none;\">\n",
              "\n",
              "  <svg xmlns=\"http://www.w3.org/2000/svg\" height=\"24px\" viewBox=\"0 -960 960 960\">\n",
              "    <path d=\"M120-120v-720h720v720H120Zm60-500h600v-160H180v160Zm220 220h160v-160H400v160Zm0 220h160v-160H400v160ZM180-400h160v-160H180v160Zm440 0h160v-160H620v160ZM180-180h160v-160H180v160Zm440 0h160v-160H620v160Z\"/>\n",
              "  </svg>\n",
              "    </button>\n",
              "\n",
              "  <style>\n",
              "    .colab-df-container {\n",
              "      display:flex;\n",
              "      gap: 12px;\n",
              "    }\n",
              "\n",
              "    .colab-df-convert {\n",
              "      background-color: #E8F0FE;\n",
              "      border: none;\n",
              "      border-radius: 50%;\n",
              "      cursor: pointer;\n",
              "      display: none;\n",
              "      fill: #1967D2;\n",
              "      height: 32px;\n",
              "      padding: 0 0 0 0;\n",
              "      width: 32px;\n",
              "    }\n",
              "\n",
              "    .colab-df-convert:hover {\n",
              "      background-color: #E2EBFA;\n",
              "      box-shadow: 0px 1px 2px rgba(60, 64, 67, 0.3), 0px 1px 3px 1px rgba(60, 64, 67, 0.15);\n",
              "      fill: #174EA6;\n",
              "    }\n",
              "\n",
              "    .colab-df-buttons div {\n",
              "      margin-bottom: 4px;\n",
              "    }\n",
              "\n",
              "    [theme=dark] .colab-df-convert {\n",
              "      background-color: #3B4455;\n",
              "      fill: #D2E3FC;\n",
              "    }\n",
              "\n",
              "    [theme=dark] .colab-df-convert:hover {\n",
              "      background-color: #434B5C;\n",
              "      box-shadow: 0px 1px 3px 1px rgba(0, 0, 0, 0.15);\n",
              "      filter: drop-shadow(0px 1px 2px rgba(0, 0, 0, 0.3));\n",
              "      fill: #FFFFFF;\n",
              "    }\n",
              "  </style>\n",
              "\n",
              "    <script>\n",
              "      const buttonEl =\n",
              "        document.querySelector('#df-6cd8f879-acad-49a4-b8a8-71b2438ab94f button.colab-df-convert');\n",
              "      buttonEl.style.display =\n",
              "        google.colab.kernel.accessAllowed ? 'block' : 'none';\n",
              "\n",
              "      async function convertToInteractive(key) {\n",
              "        const element = document.querySelector('#df-6cd8f879-acad-49a4-b8a8-71b2438ab94f');\n",
              "        const dataTable =\n",
              "          await google.colab.kernel.invokeFunction('convertToInteractive',\n",
              "                                                    [key], {});\n",
              "        if (!dataTable) return;\n",
              "\n",
              "        const docLinkHtml = 'Like what you see? Visit the ' +\n",
              "          '<a target=\"_blank\" href=https://colab.research.google.com/notebooks/data_table.ipynb>data table notebook</a>'\n",
              "          + ' to learn more about interactive tables.';\n",
              "        element.innerHTML = '';\n",
              "        dataTable['output_type'] = 'display_data';\n",
              "        await google.colab.output.renderOutput(dataTable, element);\n",
              "        const docLink = document.createElement('div');\n",
              "        docLink.innerHTML = docLinkHtml;\n",
              "        element.appendChild(docLink);\n",
              "      }\n",
              "    </script>\n",
              "  </div>\n",
              "\n",
              "\n",
              "<div id=\"df-ac7f3a51-a3f7-407e-a293-65606ac5aa98\">\n",
              "  <button class=\"colab-df-quickchart\" onclick=\"quickchart('df-ac7f3a51-a3f7-407e-a293-65606ac5aa98')\"\n",
              "            title=\"Suggest charts\"\n",
              "            style=\"display:none;\">\n",
              "\n",
              "<svg xmlns=\"http://www.w3.org/2000/svg\" height=\"24px\"viewBox=\"0 0 24 24\"\n",
              "     width=\"24px\">\n",
              "    <g>\n",
              "        <path d=\"M19 3H5c-1.1 0-2 .9-2 2v14c0 1.1.9 2 2 2h14c1.1 0 2-.9 2-2V5c0-1.1-.9-2-2-2zM9 17H7v-7h2v7zm4 0h-2V7h2v10zm4 0h-2v-4h2v4z\"/>\n",
              "    </g>\n",
              "</svg>\n",
              "  </button>\n",
              "\n",
              "<style>\n",
              "  .colab-df-quickchart {\n",
              "      --bg-color: #E8F0FE;\n",
              "      --fill-color: #1967D2;\n",
              "      --hover-bg-color: #E2EBFA;\n",
              "      --hover-fill-color: #174EA6;\n",
              "      --disabled-fill-color: #AAA;\n",
              "      --disabled-bg-color: #DDD;\n",
              "  }\n",
              "\n",
              "  [theme=dark] .colab-df-quickchart {\n",
              "      --bg-color: #3B4455;\n",
              "      --fill-color: #D2E3FC;\n",
              "      --hover-bg-color: #434B5C;\n",
              "      --hover-fill-color: #FFFFFF;\n",
              "      --disabled-bg-color: #3B4455;\n",
              "      --disabled-fill-color: #666;\n",
              "  }\n",
              "\n",
              "  .colab-df-quickchart {\n",
              "    background-color: var(--bg-color);\n",
              "    border: none;\n",
              "    border-radius: 50%;\n",
              "    cursor: pointer;\n",
              "    display: none;\n",
              "    fill: var(--fill-color);\n",
              "    height: 32px;\n",
              "    padding: 0;\n",
              "    width: 32px;\n",
              "  }\n",
              "\n",
              "  .colab-df-quickchart:hover {\n",
              "    background-color: var(--hover-bg-color);\n",
              "    box-shadow: 0 1px 2px rgba(60, 64, 67, 0.3), 0 1px 3px 1px rgba(60, 64, 67, 0.15);\n",
              "    fill: var(--button-hover-fill-color);\n",
              "  }\n",
              "\n",
              "  .colab-df-quickchart-complete:disabled,\n",
              "  .colab-df-quickchart-complete:disabled:hover {\n",
              "    background-color: var(--disabled-bg-color);\n",
              "    fill: var(--disabled-fill-color);\n",
              "    box-shadow: none;\n",
              "  }\n",
              "\n",
              "  .colab-df-spinner {\n",
              "    border: 2px solid var(--fill-color);\n",
              "    border-color: transparent;\n",
              "    border-bottom-color: var(--fill-color);\n",
              "    animation:\n",
              "      spin 1s steps(1) infinite;\n",
              "  }\n",
              "\n",
              "  @keyframes spin {\n",
              "    0% {\n",
              "      border-color: transparent;\n",
              "      border-bottom-color: var(--fill-color);\n",
              "      border-left-color: var(--fill-color);\n",
              "    }\n",
              "    20% {\n",
              "      border-color: transparent;\n",
              "      border-left-color: var(--fill-color);\n",
              "      border-top-color: var(--fill-color);\n",
              "    }\n",
              "    30% {\n",
              "      border-color: transparent;\n",
              "      border-left-color: var(--fill-color);\n",
              "      border-top-color: var(--fill-color);\n",
              "      border-right-color: var(--fill-color);\n",
              "    }\n",
              "    40% {\n",
              "      border-color: transparent;\n",
              "      border-right-color: var(--fill-color);\n",
              "      border-top-color: var(--fill-color);\n",
              "    }\n",
              "    60% {\n",
              "      border-color: transparent;\n",
              "      border-right-color: var(--fill-color);\n",
              "    }\n",
              "    80% {\n",
              "      border-color: transparent;\n",
              "      border-right-color: var(--fill-color);\n",
              "      border-bottom-color: var(--fill-color);\n",
              "    }\n",
              "    90% {\n",
              "      border-color: transparent;\n",
              "      border-bottom-color: var(--fill-color);\n",
              "    }\n",
              "  }\n",
              "</style>\n",
              "\n",
              "  <script>\n",
              "    async function quickchart(key) {\n",
              "      const quickchartButtonEl =\n",
              "        document.querySelector('#' + key + ' button');\n",
              "      quickchartButtonEl.disabled = true;  // To prevent multiple clicks.\n",
              "      quickchartButtonEl.classList.add('colab-df-spinner');\n",
              "      try {\n",
              "        const charts = await google.colab.kernel.invokeFunction(\n",
              "            'suggestCharts', [key], {});\n",
              "      } catch (error) {\n",
              "        console.error('Error during call to suggestCharts:', error);\n",
              "      }\n",
              "      quickchartButtonEl.classList.remove('colab-df-spinner');\n",
              "      quickchartButtonEl.classList.add('colab-df-quickchart-complete');\n",
              "    }\n",
              "    (() => {\n",
              "      let quickchartButtonEl =\n",
              "        document.querySelector('#df-ac7f3a51-a3f7-407e-a293-65606ac5aa98 button');\n",
              "      quickchartButtonEl.style.display =\n",
              "        google.colab.kernel.accessAllowed ? 'block' : 'none';\n",
              "    })();\n",
              "  </script>\n",
              "</div>\n",
              "    </div>\n",
              "  </div>\n"
            ],
            "application/vnd.google.colaboratory.intrinsic+json": {
              "type": "dataframe",
              "variable_name": "syntax_df",
              "summary": "{\n  \"name\": \"syntax_df\",\n  \"rows\": 5,\n  \"fields\": [\n    {\n      \"column\": \"County\",\n      \"properties\": {\n        \"dtype\": \"string\",\n        \"num_unique_values\": 5,\n        \"samples\": [\n          \" Machakos       \",\n          \"Naroko \",\n          \" Kisumu\"\n        ],\n        \"semantic_type\": \"\",\n        \"description\": \"\"\n      }\n    },\n    {\n      \"column\": \"Score\",\n      \"properties\": {\n        \"dtype\": \"number\",\n        \"std\": 9,\n        \"min\": 61,\n        \"max\": 84,\n        \"num_unique_values\": 5,\n        \"samples\": [\n          83,\n          61,\n          75\n        ],\n        \"semantic_type\": \"\",\n        \"description\": \"\"\n      }\n    }\n  ]\n}"
            }
          },
          "metadata": {},
          "execution_count": 2
        }
      ]
    },
    {
      "cell_type": "code",
      "source": [
        "# We can also use str.replace() function on the respective column to strip all the spaces\n",
        "syntax_df['County'] = syntax_df['County'].str.replace(\" \",\"\")"
      ],
      "metadata": {
        "id": "4CalqGR-_Etq"
      },
      "execution_count": null,
      "outputs": []
    },
    {
      "cell_type": "code",
      "source": [
        "# Fix typos: Strings can be entered in many different ways, and no wonder they can have mistakes.\n",
        "# If you want to replace certain words - \"Naroko\" with \"Narok\"\n",
        "\n",
        "syntax_df['County'] =syntax_df['County'].str.replace('Naroko', 'Narok')\n",
        "syntax_df"
      ],
      "metadata": {
        "colab": {
          "base_uri": "https://localhost:8080/",
          "height": 206
        },
        "id": "kvXNxgIE_Gyh",
        "outputId": "6c9adb65-9f63-43a2-a776-d00ec3ae0cad"
      },
      "execution_count": null,
      "outputs": [
        {
          "output_type": "execute_result",
          "data": {
            "text/plain": [
              "     County  Score\n",
              "0   Nairobi     73\n",
              "1  Machakos     83\n",
              "2    Kisumu     75\n",
              "3    Nakuru     84\n",
              "4     Narok     61"
            ],
            "text/html": [
              "\n",
              "  <div id=\"df-015d0cb0-d5ee-4a1b-abdd-e9ed1950b82c\" class=\"colab-df-container\">\n",
              "    <div>\n",
              "<style scoped>\n",
              "    .dataframe tbody tr th:only-of-type {\n",
              "        vertical-align: middle;\n",
              "    }\n",
              "\n",
              "    .dataframe tbody tr th {\n",
              "        vertical-align: top;\n",
              "    }\n",
              "\n",
              "    .dataframe thead th {\n",
              "        text-align: right;\n",
              "    }\n",
              "</style>\n",
              "<table border=\"1\" class=\"dataframe\">\n",
              "  <thead>\n",
              "    <tr style=\"text-align: right;\">\n",
              "      <th></th>\n",
              "      <th>County</th>\n",
              "      <th>Score</th>\n",
              "    </tr>\n",
              "  </thead>\n",
              "  <tbody>\n",
              "    <tr>\n",
              "      <th>0</th>\n",
              "      <td>Nairobi</td>\n",
              "      <td>73</td>\n",
              "    </tr>\n",
              "    <tr>\n",
              "      <th>1</th>\n",
              "      <td>Machakos</td>\n",
              "      <td>83</td>\n",
              "    </tr>\n",
              "    <tr>\n",
              "      <th>2</th>\n",
              "      <td>Kisumu</td>\n",
              "      <td>75</td>\n",
              "    </tr>\n",
              "    <tr>\n",
              "      <th>3</th>\n",
              "      <td>Nakuru</td>\n",
              "      <td>84</td>\n",
              "    </tr>\n",
              "    <tr>\n",
              "      <th>4</th>\n",
              "      <td>Narok</td>\n",
              "      <td>61</td>\n",
              "    </tr>\n",
              "  </tbody>\n",
              "</table>\n",
              "</div>\n",
              "    <div class=\"colab-df-buttons\">\n",
              "\n",
              "  <div class=\"colab-df-container\">\n",
              "    <button class=\"colab-df-convert\" onclick=\"convertToInteractive('df-015d0cb0-d5ee-4a1b-abdd-e9ed1950b82c')\"\n",
              "            title=\"Convert this dataframe to an interactive table.\"\n",
              "            style=\"display:none;\">\n",
              "\n",
              "  <svg xmlns=\"http://www.w3.org/2000/svg\" height=\"24px\" viewBox=\"0 -960 960 960\">\n",
              "    <path d=\"M120-120v-720h720v720H120Zm60-500h600v-160H180v160Zm220 220h160v-160H400v160Zm0 220h160v-160H400v160ZM180-400h160v-160H180v160Zm440 0h160v-160H620v160ZM180-180h160v-160H180v160Zm440 0h160v-160H620v160Z\"/>\n",
              "  </svg>\n",
              "    </button>\n",
              "\n",
              "  <style>\n",
              "    .colab-df-container {\n",
              "      display:flex;\n",
              "      gap: 12px;\n",
              "    }\n",
              "\n",
              "    .colab-df-convert {\n",
              "      background-color: #E8F0FE;\n",
              "      border: none;\n",
              "      border-radius: 50%;\n",
              "      cursor: pointer;\n",
              "      display: none;\n",
              "      fill: #1967D2;\n",
              "      height: 32px;\n",
              "      padding: 0 0 0 0;\n",
              "      width: 32px;\n",
              "    }\n",
              "\n",
              "    .colab-df-convert:hover {\n",
              "      background-color: #E2EBFA;\n",
              "      box-shadow: 0px 1px 2px rgba(60, 64, 67, 0.3), 0px 1px 3px 1px rgba(60, 64, 67, 0.15);\n",
              "      fill: #174EA6;\n",
              "    }\n",
              "\n",
              "    .colab-df-buttons div {\n",
              "      margin-bottom: 4px;\n",
              "    }\n",
              "\n",
              "    [theme=dark] .colab-df-convert {\n",
              "      background-color: #3B4455;\n",
              "      fill: #D2E3FC;\n",
              "    }\n",
              "\n",
              "    [theme=dark] .colab-df-convert:hover {\n",
              "      background-color: #434B5C;\n",
              "      box-shadow: 0px 1px 3px 1px rgba(0, 0, 0, 0.15);\n",
              "      filter: drop-shadow(0px 1px 2px rgba(0, 0, 0, 0.3));\n",
              "      fill: #FFFFFF;\n",
              "    }\n",
              "  </style>\n",
              "\n",
              "    <script>\n",
              "      const buttonEl =\n",
              "        document.querySelector('#df-015d0cb0-d5ee-4a1b-abdd-e9ed1950b82c button.colab-df-convert');\n",
              "      buttonEl.style.display =\n",
              "        google.colab.kernel.accessAllowed ? 'block' : 'none';\n",
              "\n",
              "      async function convertToInteractive(key) {\n",
              "        const element = document.querySelector('#df-015d0cb0-d5ee-4a1b-abdd-e9ed1950b82c');\n",
              "        const dataTable =\n",
              "          await google.colab.kernel.invokeFunction('convertToInteractive',\n",
              "                                                    [key], {});\n",
              "        if (!dataTable) return;\n",
              "\n",
              "        const docLinkHtml = 'Like what you see? Visit the ' +\n",
              "          '<a target=\"_blank\" href=https://colab.research.google.com/notebooks/data_table.ipynb>data table notebook</a>'\n",
              "          + ' to learn more about interactive tables.';\n",
              "        element.innerHTML = '';\n",
              "        dataTable['output_type'] = 'display_data';\n",
              "        await google.colab.output.renderOutput(dataTable, element);\n",
              "        const docLink = document.createElement('div');\n",
              "        docLink.innerHTML = docLinkHtml;\n",
              "        element.appendChild(docLink);\n",
              "      }\n",
              "    </script>\n",
              "  </div>\n",
              "\n",
              "\n",
              "<div id=\"df-19a341eb-ea3d-44d5-982f-9582e68131ed\">\n",
              "  <button class=\"colab-df-quickchart\" onclick=\"quickchart('df-19a341eb-ea3d-44d5-982f-9582e68131ed')\"\n",
              "            title=\"Suggest charts\"\n",
              "            style=\"display:none;\">\n",
              "\n",
              "<svg xmlns=\"http://www.w3.org/2000/svg\" height=\"24px\"viewBox=\"0 0 24 24\"\n",
              "     width=\"24px\">\n",
              "    <g>\n",
              "        <path d=\"M19 3H5c-1.1 0-2 .9-2 2v14c0 1.1.9 2 2 2h14c1.1 0 2-.9 2-2V5c0-1.1-.9-2-2-2zM9 17H7v-7h2v7zm4 0h-2V7h2v10zm4 0h-2v-4h2v4z\"/>\n",
              "    </g>\n",
              "</svg>\n",
              "  </button>\n",
              "\n",
              "<style>\n",
              "  .colab-df-quickchart {\n",
              "      --bg-color: #E8F0FE;\n",
              "      --fill-color: #1967D2;\n",
              "      --hover-bg-color: #E2EBFA;\n",
              "      --hover-fill-color: #174EA6;\n",
              "      --disabled-fill-color: #AAA;\n",
              "      --disabled-bg-color: #DDD;\n",
              "  }\n",
              "\n",
              "  [theme=dark] .colab-df-quickchart {\n",
              "      --bg-color: #3B4455;\n",
              "      --fill-color: #D2E3FC;\n",
              "      --hover-bg-color: #434B5C;\n",
              "      --hover-fill-color: #FFFFFF;\n",
              "      --disabled-bg-color: #3B4455;\n",
              "      --disabled-fill-color: #666;\n",
              "  }\n",
              "\n",
              "  .colab-df-quickchart {\n",
              "    background-color: var(--bg-color);\n",
              "    border: none;\n",
              "    border-radius: 50%;\n",
              "    cursor: pointer;\n",
              "    display: none;\n",
              "    fill: var(--fill-color);\n",
              "    height: 32px;\n",
              "    padding: 0;\n",
              "    width: 32px;\n",
              "  }\n",
              "\n",
              "  .colab-df-quickchart:hover {\n",
              "    background-color: var(--hover-bg-color);\n",
              "    box-shadow: 0 1px 2px rgba(60, 64, 67, 0.3), 0 1px 3px 1px rgba(60, 64, 67, 0.15);\n",
              "    fill: var(--button-hover-fill-color);\n",
              "  }\n",
              "\n",
              "  .colab-df-quickchart-complete:disabled,\n",
              "  .colab-df-quickchart-complete:disabled:hover {\n",
              "    background-color: var(--disabled-bg-color);\n",
              "    fill: var(--disabled-fill-color);\n",
              "    box-shadow: none;\n",
              "  }\n",
              "\n",
              "  .colab-df-spinner {\n",
              "    border: 2px solid var(--fill-color);\n",
              "    border-color: transparent;\n",
              "    border-bottom-color: var(--fill-color);\n",
              "    animation:\n",
              "      spin 1s steps(1) infinite;\n",
              "  }\n",
              "\n",
              "  @keyframes spin {\n",
              "    0% {\n",
              "      border-color: transparent;\n",
              "      border-bottom-color: var(--fill-color);\n",
              "      border-left-color: var(--fill-color);\n",
              "    }\n",
              "    20% {\n",
              "      border-color: transparent;\n",
              "      border-left-color: var(--fill-color);\n",
              "      border-top-color: var(--fill-color);\n",
              "    }\n",
              "    30% {\n",
              "      border-color: transparent;\n",
              "      border-left-color: var(--fill-color);\n",
              "      border-top-color: var(--fill-color);\n",
              "      border-right-color: var(--fill-color);\n",
              "    }\n",
              "    40% {\n",
              "      border-color: transparent;\n",
              "      border-right-color: var(--fill-color);\n",
              "      border-top-color: var(--fill-color);\n",
              "    }\n",
              "    60% {\n",
              "      border-color: transparent;\n",
              "      border-right-color: var(--fill-color);\n",
              "    }\n",
              "    80% {\n",
              "      border-color: transparent;\n",
              "      border-right-color: var(--fill-color);\n",
              "      border-bottom-color: var(--fill-color);\n",
              "    }\n",
              "    90% {\n",
              "      border-color: transparent;\n",
              "      border-bottom-color: var(--fill-color);\n",
              "    }\n",
              "  }\n",
              "</style>\n",
              "\n",
              "  <script>\n",
              "    async function quickchart(key) {\n",
              "      const quickchartButtonEl =\n",
              "        document.querySelector('#' + key + ' button');\n",
              "      quickchartButtonEl.disabled = true;  // To prevent multiple clicks.\n",
              "      quickchartButtonEl.classList.add('colab-df-spinner');\n",
              "      try {\n",
              "        const charts = await google.colab.kernel.invokeFunction(\n",
              "            'suggestCharts', [key], {});\n",
              "      } catch (error) {\n",
              "        console.error('Error during call to suggestCharts:', error);\n",
              "      }\n",
              "      quickchartButtonEl.classList.remove('colab-df-spinner');\n",
              "      quickchartButtonEl.classList.add('colab-df-quickchart-complete');\n",
              "    }\n",
              "    (() => {\n",
              "      let quickchartButtonEl =\n",
              "        document.querySelector('#df-19a341eb-ea3d-44d5-982f-9582e68131ed button');\n",
              "      quickchartButtonEl.style.display =\n",
              "        google.colab.kernel.accessAllowed ? 'block' : 'none';\n",
              "    })();\n",
              "  </script>\n",
              "</div>\n",
              "    </div>\n",
              "  </div>\n"
            ],
            "application/vnd.google.colaboratory.intrinsic+json": {
              "type": "dataframe",
              "variable_name": "syntax_df",
              "summary": "{\n  \"name\": \"syntax_df\",\n  \"rows\": 5,\n  \"fields\": [\n    {\n      \"column\": \"County\",\n      \"properties\": {\n        \"dtype\": \"string\",\n        \"num_unique_values\": 5,\n        \"samples\": [\n          \"Machakos\",\n          \"Narok\",\n          \"Kisumu\"\n        ],\n        \"semantic_type\": \"\",\n        \"description\": \"\"\n      }\n    },\n    {\n      \"column\": \"Score\",\n      \"properties\": {\n        \"dtype\": \"number\",\n        \"std\": 9,\n        \"min\": 61,\n        \"max\": 84,\n        \"num_unique_values\": 5,\n        \"samples\": [\n          83,\n          61,\n          75\n        ],\n        \"semantic_type\": \"\",\n        \"description\": \"\"\n      }\n    }\n  ]\n}"
            }
          },
          "metadata": {},
          "execution_count": 4
        }
      ]
    },
    {
      "cell_type": "code",
      "source": [
        "# Outliers\n",
        "# Making the dataframe from csv file\n",
        "outliers_df = pd.read_csv(\"http://bit.ly/BostonHousingDataset\")\n",
        "outliers_df.head()"
      ],
      "metadata": {
        "colab": {
          "base_uri": "https://localhost:8080/",
          "height": 206
        },
        "id": "a1i28MzV_J9i",
        "outputId": "89c7ba98-6edc-4ee2-ea2b-e05a0d0f01f6"
      },
      "execution_count": null,
      "outputs": [
        {
          "output_type": "execute_result",
          "data": {
            "text/plain": [
              "      crim    zn  indus  chas    nox     rm   age     dis  rad  tax  ptratio  \\\n",
              "0  0.00632  18.0   2.31     0  0.538  6.575  65.2  4.0900    1  296     15.3   \n",
              "1  0.02731   0.0   7.07     0  0.469  6.421  78.9  4.9671    2  242     17.8   \n",
              "2  0.02729   0.0   7.07     0  0.469  7.185  61.1  4.9671    2  242     17.8   \n",
              "3  0.03237   0.0   2.18     0  0.458  6.998  45.8  6.0622    3  222     18.7   \n",
              "4  0.06905   0.0   2.18     0  0.458  7.147  54.2  6.0622    3  222     18.7   \n",
              "\n",
              "        b  lstat  medv  \n",
              "0  396.90   4.98  24.0  \n",
              "1  396.90   9.14  21.6  \n",
              "2  392.83   4.03  34.7  \n",
              "3  394.63   2.94  33.4  \n",
              "4  396.90   5.33  36.2  "
            ],
            "text/html": [
              "\n",
              "  <div id=\"df-1c1a2165-34f6-4b62-aa65-e0870d858f19\" class=\"colab-df-container\">\n",
              "    <div>\n",
              "<style scoped>\n",
              "    .dataframe tbody tr th:only-of-type {\n",
              "        vertical-align: middle;\n",
              "    }\n",
              "\n",
              "    .dataframe tbody tr th {\n",
              "        vertical-align: top;\n",
              "    }\n",
              "\n",
              "    .dataframe thead th {\n",
              "        text-align: right;\n",
              "    }\n",
              "</style>\n",
              "<table border=\"1\" class=\"dataframe\">\n",
              "  <thead>\n",
              "    <tr style=\"text-align: right;\">\n",
              "      <th></th>\n",
              "      <th>crim</th>\n",
              "      <th>zn</th>\n",
              "      <th>indus</th>\n",
              "      <th>chas</th>\n",
              "      <th>nox</th>\n",
              "      <th>rm</th>\n",
              "      <th>age</th>\n",
              "      <th>dis</th>\n",
              "      <th>rad</th>\n",
              "      <th>tax</th>\n",
              "      <th>ptratio</th>\n",
              "      <th>b</th>\n",
              "      <th>lstat</th>\n",
              "      <th>medv</th>\n",
              "    </tr>\n",
              "  </thead>\n",
              "  <tbody>\n",
              "    <tr>\n",
              "      <th>0</th>\n",
              "      <td>0.00632</td>\n",
              "      <td>18.0</td>\n",
              "      <td>2.31</td>\n",
              "      <td>0</td>\n",
              "      <td>0.538</td>\n",
              "      <td>6.575</td>\n",
              "      <td>65.2</td>\n",
              "      <td>4.0900</td>\n",
              "      <td>1</td>\n",
              "      <td>296</td>\n",
              "      <td>15.3</td>\n",
              "      <td>396.90</td>\n",
              "      <td>4.98</td>\n",
              "      <td>24.0</td>\n",
              "    </tr>\n",
              "    <tr>\n",
              "      <th>1</th>\n",
              "      <td>0.02731</td>\n",
              "      <td>0.0</td>\n",
              "      <td>7.07</td>\n",
              "      <td>0</td>\n",
              "      <td>0.469</td>\n",
              "      <td>6.421</td>\n",
              "      <td>78.9</td>\n",
              "      <td>4.9671</td>\n",
              "      <td>2</td>\n",
              "      <td>242</td>\n",
              "      <td>17.8</td>\n",
              "      <td>396.90</td>\n",
              "      <td>9.14</td>\n",
              "      <td>21.6</td>\n",
              "    </tr>\n",
              "    <tr>\n",
              "      <th>2</th>\n",
              "      <td>0.02729</td>\n",
              "      <td>0.0</td>\n",
              "      <td>7.07</td>\n",
              "      <td>0</td>\n",
              "      <td>0.469</td>\n",
              "      <td>7.185</td>\n",
              "      <td>61.1</td>\n",
              "      <td>4.9671</td>\n",
              "      <td>2</td>\n",
              "      <td>242</td>\n",
              "      <td>17.8</td>\n",
              "      <td>392.83</td>\n",
              "      <td>4.03</td>\n",
              "      <td>34.7</td>\n",
              "    </tr>\n",
              "    <tr>\n",
              "      <th>3</th>\n",
              "      <td>0.03237</td>\n",
              "      <td>0.0</td>\n",
              "      <td>2.18</td>\n",
              "      <td>0</td>\n",
              "      <td>0.458</td>\n",
              "      <td>6.998</td>\n",
              "      <td>45.8</td>\n",
              "      <td>6.0622</td>\n",
              "      <td>3</td>\n",
              "      <td>222</td>\n",
              "      <td>18.7</td>\n",
              "      <td>394.63</td>\n",
              "      <td>2.94</td>\n",
              "      <td>33.4</td>\n",
              "    </tr>\n",
              "    <tr>\n",
              "      <th>4</th>\n",
              "      <td>0.06905</td>\n",
              "      <td>0.0</td>\n",
              "      <td>2.18</td>\n",
              "      <td>0</td>\n",
              "      <td>0.458</td>\n",
              "      <td>7.147</td>\n",
              "      <td>54.2</td>\n",
              "      <td>6.0622</td>\n",
              "      <td>3</td>\n",
              "      <td>222</td>\n",
              "      <td>18.7</td>\n",
              "      <td>396.90</td>\n",
              "      <td>5.33</td>\n",
              "      <td>36.2</td>\n",
              "    </tr>\n",
              "  </tbody>\n",
              "</table>\n",
              "</div>\n",
              "    <div class=\"colab-df-buttons\">\n",
              "\n",
              "  <div class=\"colab-df-container\">\n",
              "    <button class=\"colab-df-convert\" onclick=\"convertToInteractive('df-1c1a2165-34f6-4b62-aa65-e0870d858f19')\"\n",
              "            title=\"Convert this dataframe to an interactive table.\"\n",
              "            style=\"display:none;\">\n",
              "\n",
              "  <svg xmlns=\"http://www.w3.org/2000/svg\" height=\"24px\" viewBox=\"0 -960 960 960\">\n",
              "    <path d=\"M120-120v-720h720v720H120Zm60-500h600v-160H180v160Zm220 220h160v-160H400v160Zm0 220h160v-160H400v160ZM180-400h160v-160H180v160Zm440 0h160v-160H620v160ZM180-180h160v-160H180v160Zm440 0h160v-160H620v160Z\"/>\n",
              "  </svg>\n",
              "    </button>\n",
              "\n",
              "  <style>\n",
              "    .colab-df-container {\n",
              "      display:flex;\n",
              "      gap: 12px;\n",
              "    }\n",
              "\n",
              "    .colab-df-convert {\n",
              "      background-color: #E8F0FE;\n",
              "      border: none;\n",
              "      border-radius: 50%;\n",
              "      cursor: pointer;\n",
              "      display: none;\n",
              "      fill: #1967D2;\n",
              "      height: 32px;\n",
              "      padding: 0 0 0 0;\n",
              "      width: 32px;\n",
              "    }\n",
              "\n",
              "    .colab-df-convert:hover {\n",
              "      background-color: #E2EBFA;\n",
              "      box-shadow: 0px 1px 2px rgba(60, 64, 67, 0.3), 0px 1px 3px 1px rgba(60, 64, 67, 0.15);\n",
              "      fill: #174EA6;\n",
              "    }\n",
              "\n",
              "    .colab-df-buttons div {\n",
              "      margin-bottom: 4px;\n",
              "    }\n",
              "\n",
              "    [theme=dark] .colab-df-convert {\n",
              "      background-color: #3B4455;\n",
              "      fill: #D2E3FC;\n",
              "    }\n",
              "\n",
              "    [theme=dark] .colab-df-convert:hover {\n",
              "      background-color: #434B5C;\n",
              "      box-shadow: 0px 1px 3px 1px rgba(0, 0, 0, 0.15);\n",
              "      filter: drop-shadow(0px 1px 2px rgba(0, 0, 0, 0.3));\n",
              "      fill: #FFFFFF;\n",
              "    }\n",
              "  </style>\n",
              "\n",
              "    <script>\n",
              "      const buttonEl =\n",
              "        document.querySelector('#df-1c1a2165-34f6-4b62-aa65-e0870d858f19 button.colab-df-convert');\n",
              "      buttonEl.style.display =\n",
              "        google.colab.kernel.accessAllowed ? 'block' : 'none';\n",
              "\n",
              "      async function convertToInteractive(key) {\n",
              "        const element = document.querySelector('#df-1c1a2165-34f6-4b62-aa65-e0870d858f19');\n",
              "        const dataTable =\n",
              "          await google.colab.kernel.invokeFunction('convertToInteractive',\n",
              "                                                    [key], {});\n",
              "        if (!dataTable) return;\n",
              "\n",
              "        const docLinkHtml = 'Like what you see? Visit the ' +\n",
              "          '<a target=\"_blank\" href=https://colab.research.google.com/notebooks/data_table.ipynb>data table notebook</a>'\n",
              "          + ' to learn more about interactive tables.';\n",
              "        element.innerHTML = '';\n",
              "        dataTable['output_type'] = 'display_data';\n",
              "        await google.colab.output.renderOutput(dataTable, element);\n",
              "        const docLink = document.createElement('div');\n",
              "        docLink.innerHTML = docLinkHtml;\n",
              "        element.appendChild(docLink);\n",
              "      }\n",
              "    </script>\n",
              "  </div>\n",
              "\n",
              "\n",
              "<div id=\"df-ed476958-b65c-44aa-95bc-977400f34cfe\">\n",
              "  <button class=\"colab-df-quickchart\" onclick=\"quickchart('df-ed476958-b65c-44aa-95bc-977400f34cfe')\"\n",
              "            title=\"Suggest charts\"\n",
              "            style=\"display:none;\">\n",
              "\n",
              "<svg xmlns=\"http://www.w3.org/2000/svg\" height=\"24px\"viewBox=\"0 0 24 24\"\n",
              "     width=\"24px\">\n",
              "    <g>\n",
              "        <path d=\"M19 3H5c-1.1 0-2 .9-2 2v14c0 1.1.9 2 2 2h14c1.1 0 2-.9 2-2V5c0-1.1-.9-2-2-2zM9 17H7v-7h2v7zm4 0h-2V7h2v10zm4 0h-2v-4h2v4z\"/>\n",
              "    </g>\n",
              "</svg>\n",
              "  </button>\n",
              "\n",
              "<style>\n",
              "  .colab-df-quickchart {\n",
              "      --bg-color: #E8F0FE;\n",
              "      --fill-color: #1967D2;\n",
              "      --hover-bg-color: #E2EBFA;\n",
              "      --hover-fill-color: #174EA6;\n",
              "      --disabled-fill-color: #AAA;\n",
              "      --disabled-bg-color: #DDD;\n",
              "  }\n",
              "\n",
              "  [theme=dark] .colab-df-quickchart {\n",
              "      --bg-color: #3B4455;\n",
              "      --fill-color: #D2E3FC;\n",
              "      --hover-bg-color: #434B5C;\n",
              "      --hover-fill-color: #FFFFFF;\n",
              "      --disabled-bg-color: #3B4455;\n",
              "      --disabled-fill-color: #666;\n",
              "  }\n",
              "\n",
              "  .colab-df-quickchart {\n",
              "    background-color: var(--bg-color);\n",
              "    border: none;\n",
              "    border-radius: 50%;\n",
              "    cursor: pointer;\n",
              "    display: none;\n",
              "    fill: var(--fill-color);\n",
              "    height: 32px;\n",
              "    padding: 0;\n",
              "    width: 32px;\n",
              "  }\n",
              "\n",
              "  .colab-df-quickchart:hover {\n",
              "    background-color: var(--hover-bg-color);\n",
              "    box-shadow: 0 1px 2px rgba(60, 64, 67, 0.3), 0 1px 3px 1px rgba(60, 64, 67, 0.15);\n",
              "    fill: var(--button-hover-fill-color);\n",
              "  }\n",
              "\n",
              "  .colab-df-quickchart-complete:disabled,\n",
              "  .colab-df-quickchart-complete:disabled:hover {\n",
              "    background-color: var(--disabled-bg-color);\n",
              "    fill: var(--disabled-fill-color);\n",
              "    box-shadow: none;\n",
              "  }\n",
              "\n",
              "  .colab-df-spinner {\n",
              "    border: 2px solid var(--fill-color);\n",
              "    border-color: transparent;\n",
              "    border-bottom-color: var(--fill-color);\n",
              "    animation:\n",
              "      spin 1s steps(1) infinite;\n",
              "  }\n",
              "\n",
              "  @keyframes spin {\n",
              "    0% {\n",
              "      border-color: transparent;\n",
              "      border-bottom-color: var(--fill-color);\n",
              "      border-left-color: var(--fill-color);\n",
              "    }\n",
              "    20% {\n",
              "      border-color: transparent;\n",
              "      border-left-color: var(--fill-color);\n",
              "      border-top-color: var(--fill-color);\n",
              "    }\n",
              "    30% {\n",
              "      border-color: transparent;\n",
              "      border-left-color: var(--fill-color);\n",
              "      border-top-color: var(--fill-color);\n",
              "      border-right-color: var(--fill-color);\n",
              "    }\n",
              "    40% {\n",
              "      border-color: transparent;\n",
              "      border-right-color: var(--fill-color);\n",
              "      border-top-color: var(--fill-color);\n",
              "    }\n",
              "    60% {\n",
              "      border-color: transparent;\n",
              "      border-right-color: var(--fill-color);\n",
              "    }\n",
              "    80% {\n",
              "      border-color: transparent;\n",
              "      border-right-color: var(--fill-color);\n",
              "      border-bottom-color: var(--fill-color);\n",
              "    }\n",
              "    90% {\n",
              "      border-color: transparent;\n",
              "      border-bottom-color: var(--fill-color);\n",
              "    }\n",
              "  }\n",
              "</style>\n",
              "\n",
              "  <script>\n",
              "    async function quickchart(key) {\n",
              "      const quickchartButtonEl =\n",
              "        document.querySelector('#' + key + ' button');\n",
              "      quickchartButtonEl.disabled = true;  // To prevent multiple clicks.\n",
              "      quickchartButtonEl.classList.add('colab-df-spinner');\n",
              "      try {\n",
              "        const charts = await google.colab.kernel.invokeFunction(\n",
              "            'suggestCharts', [key], {});\n",
              "      } catch (error) {\n",
              "        console.error('Error during call to suggestCharts:', error);\n",
              "      }\n",
              "      quickchartButtonEl.classList.remove('colab-df-spinner');\n",
              "      quickchartButtonEl.classList.add('colab-df-quickchart-complete');\n",
              "    }\n",
              "    (() => {\n",
              "      let quickchartButtonEl =\n",
              "        document.querySelector('#df-ed476958-b65c-44aa-95bc-977400f34cfe button');\n",
              "      quickchartButtonEl.style.display =\n",
              "        google.colab.kernel.accessAllowed ? 'block' : 'none';\n",
              "    })();\n",
              "  </script>\n",
              "</div>\n",
              "    </div>\n",
              "  </div>\n"
            ],
            "application/vnd.google.colaboratory.intrinsic+json": {
              "type": "dataframe",
              "variable_name": "outliers_df",
              "summary": "{\n  \"name\": \"outliers_df\",\n  \"rows\": 506,\n  \"fields\": [\n    {\n      \"column\": \"crim\",\n      \"properties\": {\n        \"dtype\": \"number\",\n        \"std\": 8.60154510533249,\n        \"min\": 0.00632,\n        \"max\": 88.9762,\n        \"num_unique_values\": 504,\n        \"samples\": [\n          0.09178,\n          0.05644,\n          0.10574\n        ],\n        \"semantic_type\": \"\",\n        \"description\": \"\"\n      }\n    },\n    {\n      \"column\": \"zn\",\n      \"properties\": {\n        \"dtype\": \"number\",\n        \"std\": 23.32245299451514,\n        \"min\": 0.0,\n        \"max\": 100.0,\n        \"num_unique_values\": 26,\n        \"samples\": [\n          25.0,\n          30.0,\n          18.0\n        ],\n        \"semantic_type\": \"\",\n        \"description\": \"\"\n      }\n    },\n    {\n      \"column\": \"indus\",\n      \"properties\": {\n        \"dtype\": \"number\",\n        \"std\": 6.860352940897585,\n        \"min\": 0.46,\n        \"max\": 27.74,\n        \"num_unique_values\": 76,\n        \"samples\": [\n          8.14,\n          1.47,\n          1.22\n        ],\n        \"semantic_type\": \"\",\n        \"description\": \"\"\n      }\n    },\n    {\n      \"column\": \"chas\",\n      \"properties\": {\n        \"dtype\": \"number\",\n        \"std\": 0,\n        \"min\": 0,\n        \"max\": 1,\n        \"num_unique_values\": 2,\n        \"samples\": [\n          1,\n          0\n        ],\n        \"semantic_type\": \"\",\n        \"description\": \"\"\n      }\n    },\n    {\n      \"column\": \"nox\",\n      \"properties\": {\n        \"dtype\": \"number\",\n        \"std\": 0.11587767566755595,\n        \"min\": 0.385,\n        \"max\": 0.871,\n        \"num_unique_values\": 81,\n        \"samples\": [\n          0.401,\n          0.538\n        ],\n        \"semantic_type\": \"\",\n        \"description\": \"\"\n      }\n    },\n    {\n      \"column\": \"rm\",\n      \"properties\": {\n        \"dtype\": \"number\",\n        \"std\": 0.7026171434153233,\n        \"min\": 3.561,\n        \"max\": 8.78,\n        \"num_unique_values\": 446,\n        \"samples\": [\n          6.849,\n          4.88\n        ],\n        \"semantic_type\": \"\",\n        \"description\": \"\"\n      }\n    },\n    {\n      \"column\": \"age\",\n      \"properties\": {\n        \"dtype\": \"number\",\n        \"std\": 28.148861406903617,\n        \"min\": 2.9,\n        \"max\": 100.0,\n        \"num_unique_values\": 356,\n        \"samples\": [\n          51.8,\n          33.8\n        ],\n        \"semantic_type\": \"\",\n        \"description\": \"\"\n      }\n    },\n    {\n      \"column\": \"dis\",\n      \"properties\": {\n        \"dtype\": \"number\",\n        \"std\": 2.105710126627611,\n        \"min\": 1.1296,\n        \"max\": 12.1265,\n        \"num_unique_values\": 412,\n        \"samples\": [\n          2.2955,\n          4.2515\n        ],\n        \"semantic_type\": \"\",\n        \"description\": \"\"\n      }\n    },\n    {\n      \"column\": \"rad\",\n      \"properties\": {\n        \"dtype\": \"number\",\n        \"std\": 8,\n        \"min\": 1,\n        \"max\": 24,\n        \"num_unique_values\": 9,\n        \"samples\": [\n          7,\n          2\n        ],\n        \"semantic_type\": \"\",\n        \"description\": \"\"\n      }\n    },\n    {\n      \"column\": \"tax\",\n      \"properties\": {\n        \"dtype\": \"number\",\n        \"std\": 168,\n        \"min\": 187,\n        \"max\": 711,\n        \"num_unique_values\": 66,\n        \"samples\": [\n          370,\n          666\n        ],\n        \"semantic_type\": \"\",\n        \"description\": \"\"\n      }\n    },\n    {\n      \"column\": \"ptratio\",\n      \"properties\": {\n        \"dtype\": \"number\",\n        \"std\": 2.1649455237144406,\n        \"min\": 12.6,\n        \"max\": 22.0,\n        \"num_unique_values\": 46,\n        \"samples\": [\n          19.6,\n          15.6\n        ],\n        \"semantic_type\": \"\",\n        \"description\": \"\"\n      }\n    },\n    {\n      \"column\": \"b\",\n      \"properties\": {\n        \"dtype\": \"number\",\n        \"std\": 91.29486438415783,\n        \"min\": 0.32,\n        \"max\": 396.9,\n        \"num_unique_values\": 357,\n        \"samples\": [\n          396.24,\n          395.11\n        ],\n        \"semantic_type\": \"\",\n        \"description\": \"\"\n      }\n    },\n    {\n      \"column\": \"lstat\",\n      \"properties\": {\n        \"dtype\": \"number\",\n        \"std\": 7.141061511348571,\n        \"min\": 1.73,\n        \"max\": 37.97,\n        \"num_unique_values\": 455,\n        \"samples\": [\n          6.15,\n          4.32\n        ],\n        \"semantic_type\": \"\",\n        \"description\": \"\"\n      }\n    },\n    {\n      \"column\": \"medv\",\n      \"properties\": {\n        \"dtype\": \"number\",\n        \"std\": 9.197104087379818,\n        \"min\": 5.0,\n        \"max\": 50.0,\n        \"num_unique_values\": 229,\n        \"samples\": [\n          14.1,\n          22.5\n        ],\n        \"semantic_type\": \"\",\n        \"description\": \"\"\n      }\n    }\n  ]\n}"
            }
          },
          "metadata": {},
          "execution_count": 5
        }
      ]
    },
    {
      "cell_type": "code",
      "source": [
        "# Outliers - IQR\n",
        "# We can identify outliers using the interquartile range (IQR).\n",
        "# This is the first quartile subtracted from the third quartile or simply put,\n",
        "# the interquartile range (IQR is the range covered by the middle 50% of the data;\n",
        "# The first and third quartile can be clearly seen on a box plot on the data.\n",
        "# It is a measure of the dispersion similar to standard deviation or variance,\n",
        "# but is much more robust against outliers.\n",
        "# First, let's calculate IQR for each column.\n",
        "\n",
        "Q1 = outliers_df.quantile(0.25) # First quartile\n",
        "Q3 = outliers_df.quantile(0.75) # Third quartile\n",
        "IQR = Q3 - Q1\n",
        "\n",
        "print(IQR)"
      ],
      "metadata": {
        "colab": {
          "base_uri": "https://localhost:8080/"
        },
        "id": "oA4JlFGR_O0d",
        "outputId": "183746ee-3fca-43c0-9cea-475dcf8b6d34"
      },
      "execution_count": null,
      "outputs": [
        {
          "output_type": "stream",
          "name": "stdout",
          "text": [
            "crim         3.595038\n",
            "zn          12.500000\n",
            "indus       12.910000\n",
            "chas         0.000000\n",
            "nox          0.175000\n",
            "rm           0.738000\n",
            "age         49.050000\n",
            "dis          3.088250\n",
            "rad         20.000000\n",
            "tax        387.000000\n",
            "ptratio      2.800000\n",
            "b           20.847500\n",
            "lstat       10.005000\n",
            "medv         7.975000\n",
            "dtype: float64\n"
          ]
        }
      ]
    },
    {
      "cell_type": "code",
      "source": [
        "# Box plot\n",
        "# We can also discover outliers with visualization tools\n",
        "# A box plot is a method for graphically depicting groups of numerical data through their quartiles.\n",
        "# Box plots may also have lines extending vertically from the boxes (whiskers)\n",
        "# indicating variability outside the upper and lower quartiles.\n",
        "\n",
        "\n",
        "# In this example, we will plot outliers as individual points.\n",
        "#\n",
        "\n",
        "# We will use seaborn library which is a python visualisation library based on matplotlib.\n",
        "# It provides a high-level interface for drawing attractive and informative statistical graphics.\n",
        "\n",
        "# We will analyse uni-variate outlier i.e. we will use dis column only to check the outlier.\n",
        "#\n",
        "sns.boxplot(x = outliers_df['dis'])"
      ],
      "metadata": {
        "colab": {
          "base_uri": "https://localhost:8080/",
          "height": 466
        },
        "id": "TXYLpI3b_ahA",
        "outputId": "a0aeb35d-81ed-4b51-98a1-1ad402ad9b70"
      },
      "execution_count": null,
      "outputs": [
        {
          "output_type": "execute_result",
          "data": {
            "text/plain": [
              "<Axes: xlabel='dis'>"
            ]
          },
          "metadata": {},
          "execution_count": 7
        },
        {
          "output_type": "display_data",
          "data": {
            "text/plain": [
              "<Figure size 640x480 with 1 Axes>"
            ],
            "image/png": "[encoded data removed]"
          },
          "metadata": {}
        }
      ]
    },
    {
      "cell_type": "code",
      "source": [
        "# Removing the outliers (IQR Score -)\n",
        "outliers_df_iqr = outliers_df[~((outliers_df < (Q1 - 1.5 * IQR)) |(outliers_df > (Q3 + 1.5 * IQR))).any(axis=1)]\n",
        "\n",
        "print(outliers_df_iqr.shape) # The number of rows and columns in the new dataframe"
      ],
      "metadata": {
        "colab": {
          "base_uri": "https://localhost:8080/"
        },
        "id": "HY8_nbUz_nUS",
        "outputId": "9a9a7b40-ce13-45a4-c05e-8d26b17bff79"
      },
      "execution_count": null,
      "outputs": [
        {
          "output_type": "stream",
          "name": "stdout",
          "text": [
            "(268, 14)\n"
          ]
        }
      ]
    },
    {
      "cell_type": "code",
      "source": [
        "# The number of rows and columns before removing outliers\n",
        "outliers_df.shape"
      ],
      "metadata": {
        "colab": {
          "base_uri": "https://localhost:8080/"
        },
        "id": "eX093vMt_n-J",
        "outputId": "8b24afaa-7f32-4661-a823-e178ea71e00a"
      },
      "execution_count": null,
      "outputs": [
        {
          "output_type": "execute_result",
          "data": {
            "text/plain": [
              "(506, 14)"
            ]
          },
          "metadata": {},
          "execution_count": 9
        }
      ]
    },
    {
      "cell_type": "markdown",
      "source": [
        "### Accuracy"
      ],
      "metadata": {
        "id": "PY8CGfqD9DqC"
      }
    },
    {
      "cell_type": "markdown",
      "source": [
        "These errors result from having two or more values in the same row or across datasets that contradict with each other. For example; if we have a dataset about the cost of living in cities, the total column must be equivalent to the sum of rent, transport, and food. Similarly, a child can’t be married; the sum of  total male population and total female population cannot be < or > total population, e.t.c."
      ],
      "metadata": {
        "id": "qqBIKg76_yf2"
      }
    },
    {
      "cell_type": "markdown",
      "source": [
        "### Completeness"
      ],
      "metadata": {
        "id": "iXfBEwMx9Dk4"
      }
    },
    {
      "cell_type": "code",
      "source": [
        "# Checking/ Counting Missing Values\n",
        "\n",
        "# Creating a dataframe to work with\n",
        "missing_df = {\n",
        "    'Subject':['Humanities', 'Physical Education', 'Home Science', 'Mathematics', 'Physics',\n",
        "               'Chemistry','Arts'],\n",
        "   'Score':[62, 47, np.nan, 74, np.nan, 77, 85]}\n",
        "\n",
        "missing_df = pd.DataFrame(missing_df,columns=['Subject','Score'])\n",
        "\n",
        "print(missing_df)\n",
        "\n",
        "# Checking if there is any missing value in dataframe as a whole\n",
        "# Uncomment the following line after running the previous lines\n",
        "# missing_df.isnull()\n",
        "\n",
        "# Checking if there is any missing value across each column\n",
        "# Uncomment the following line after running the previous lines\n",
        "# missing_df.isnull().any()\n",
        "\n",
        "# Checking how many missing values there are across each column\n",
        "# Uncomment the following line after running the previous lines\n",
        "# missing_df.isnull().sum()\n",
        "\n",
        "# Or we can do a quick check to see if we have any missing values at all\n",
        "# Uncomment the following line after running the previous lines\n",
        "# print(missing_df.isnull().values.any())\n",
        "\n",
        "# We might also want to get a total count of missing values\n",
        "# Uncomment the following line after running the previous lines\n",
        "# print(missing_df.isnull().sum().sum())"
      ],
      "metadata": {
        "colab": {
          "base_uri": "https://localhost:8080/"
        },
        "id": "2l-Ll8ex9Zfy",
        "outputId": "2427c8a0-cb84-4864-d4b1-f8f81c602872"
      },
      "execution_count": null,
      "outputs": [
        {
          "output_type": "stream",
          "name": "stdout",
          "text": [
            "              Subject  Score\n",
            "0          Humanities   62.0\n",
            "1  Physical Education   47.0\n",
            "2        Home Science    NaN\n",
            "3         Mathematics   74.0\n",
            "4             Physics    NaN\n",
            "5           Chemistry   77.0\n",
            "6                Arts   85.0\n"
          ]
        }
      ]
    },
    {
      "cell_type": "code",
      "source": [
        "# Dropping Missing Values\n",
        "# If there are only a few null values and you know that deleting values\n",
        "# will not cause adverse effects on your result,\n",
        "# remove them from your DataFrame and store that in a new DataFrame\n",
        "\n",
        "# Droppping all\n",
        "# Uncomment the following 2 lines after running the previous lines\n",
        "# clean_df = missing_df.dropna()\n",
        "# print(clean_df)\n",
        "\n",
        "# Verifying that you no longer have any null values by running\n",
        "# Uncomment the following line after running the previous lines\n",
        "# print(clean_df.isnull().sum())"
      ],
      "metadata": {
        "id": "qAoJOl8p_5qj"
      },
      "execution_count": null,
      "outputs": []
    },
    {
      "cell_type": "code",
      "source": [
        "# Filling Missing Values\n",
        "# Imputing the attribute median for all missing values\n",
        "#\n",
        "\n",
        "# Creating a dataframe to work with\n",
        "subjects_df_median = {\n",
        "    'Subject':['Humanities', 'Physical Education', 'Home Science', 'Mathematics', 'Physics',\n",
        "               'Chemistry','Arts'],\n",
        "   'Score':[62, 47, np.nan, 74, np.nan, 77, 85]}\n",
        "subjects_df_median = pd.DataFrame(subjects_df_median,columns=['Subject','Score'])\n",
        "\n",
        "# printing our dataframe before filling\n",
        "print(\"Before Filling the Null values\")\n",
        "print(subjects_df_median)\n",
        "\n",
        "# imputing the median\n",
        "subjects_df_median['Score'] = subjects_df_median['Score'].fillna((subjects_df_median['Score'].median()))\n",
        "\n",
        "# printing out our updated dataframe\n",
        "print(\"After Filling the Null values\")\n",
        "print(subjects_df_median)"
      ],
      "metadata": {
        "colab": {
          "base_uri": "https://localhost:8080/"
        },
        "id": "Jgeoa3Ca_5gr",
        "outputId": "707a0472-c07e-478a-c9a6-f3cd153a88fa"
      },
      "execution_count": null,
      "outputs": [
        {
          "output_type": "stream",
          "name": "stdout",
          "text": [
            "Before Filling the Null values\n",
            "              Subject  Score\n",
            "0          Humanities   62.0\n",
            "1  Physical Education   47.0\n",
            "2        Home Science    NaN\n",
            "3         Mathematics   74.0\n",
            "4             Physics    NaN\n",
            "5           Chemistry   77.0\n",
            "6                Arts   85.0\n",
            "After Filling the Null values\n",
            "              Subject  Score\n",
            "0          Humanities   62.0\n",
            "1  Physical Education   47.0\n",
            "2        Home Science   74.0\n",
            "3         Mathematics   74.0\n",
            "4             Physics   74.0\n",
            "5           Chemistry   77.0\n",
            "6                Arts   85.0\n"
          ]
        }
      ]
    },
    {
      "cell_type": "code",
      "source": [
        "# Or maybe we just want to fill in missing values with a single value as shown below\n",
        "#\n",
        "\n",
        "subjects_df_value = {\n",
        "    'Subject':['Humanities', 'Physical Education', 'Home Science', 'Mathematics', 'Physics',\n",
        "               'Chemistry','Arts'],\n",
        "   'Score':[62, 47, np.nan, 74, np.nan, 77, 85]}\n",
        "\n",
        "subjects_df_value = pd.DataFrame(subjects_df_value,columns=['Subject','Score'])\n",
        "\n",
        "# Replace missing values with a number\n",
        "subjects_df_value['Score'].fillna(60, inplace=True)\n",
        "\n",
        "print(subjects_df_value)"
      ],
      "metadata": {
        "colab": {
          "base_uri": "https://localhost:8080/"
        },
        "id": "lHKLmgP1_5bR",
        "outputId": "748f8790-9ff7-4324-8796-e772209b2cfd"
      },
      "execution_count": null,
      "outputs": [
        {
          "output_type": "stream",
          "name": "stdout",
          "text": [
            "              Subject  Score\n",
            "0          Humanities   62.0\n",
            "1  Physical Education   47.0\n",
            "2        Home Science   60.0\n",
            "3         Mathematics   74.0\n",
            "4             Physics   60.0\n",
            "5           Chemistry   77.0\n",
            "6                Arts   85.0\n"
          ]
        }
      ]
    },
    {
      "cell_type": "markdown",
      "source": [
        "### Consistency"
      ],
      "metadata": {
        "id": "PhbIvnWI9Df7"
      }
    },
    {
      "cell_type": "code",
      "source": [
        "# Duplicates; data points that are repeated in your dataset.\n",
        "# These should be removed.\n",
        "#\n",
        "\n",
        "raw_data = {'first_name': ['Jamila', 'Jamila', 'Jane','Joma', 'Ulia', 'Dorcas'],\n",
        "        'last_name': ['Mohammed', 'Mohammed', 'Milner','Tech', 'Shevchenko', 'Wanjiru'],\n",
        "        'age': [52, 52, 43, 77, 25, 19],\n",
        "        'pre_assessment': [5, 5, 5, 43, 5, 2],\n",
        "        'post_assessment': [35, 35, 25, 57, 72, 71]}\n",
        "df_duplicate = pd.DataFrame(raw_data, columns = ['first_name', 'last_name', 'age', 'pre_assessment', 'post_assessment'])\n",
        "print(df_duplicate)\n",
        "\n",
        "\n",
        "# Identifying which observations are duplicates\n",
        "df_non_duplicates = df_duplicate.drop_duplicates()\n",
        "\n",
        "# Let's see these non-duplicate files\n",
        "print(\"Without Duplicates:\", df_non_duplicates)"
      ],
      "metadata": {
        "colab": {
          "base_uri": "https://localhost:8080/"
        },
        "id": "-IcqgKTa9io5",
        "outputId": "9183dbe6-64b3-4a3d-cc0f-396ea883391c"
      },
      "execution_count": null,
      "outputs": [
        {
          "output_type": "stream",
          "name": "stdout",
          "text": [
            "  first_name   last_name  age  pre_assessment  post_assessment\n",
            "0     Jamila    Mohammed   52               5               35\n",
            "1     Jamila    Mohammed   52               5               35\n",
            "2       Jane      Milner   43               5               25\n",
            "3       Joma        Tech   77              43               57\n",
            "4       Ulia  Shevchenko   25               5               72\n",
            "5     Dorcas     Wanjiru   19               2               71\n",
            "Without Duplicates:   first_name   last_name  age  pre_assessment  post_assessment\n",
            "0     Jamila    Mohammed   52               5               35\n",
            "2       Jane      Milner   43               5               25\n",
            "3       Joma        Tech   77              43               57\n",
            "4       Ulia  Shevchenko   25               5               72\n",
            "5     Dorcas     Wanjiru   19               2               71\n"
          ]
        }
      ]
    },
    {
      "cell_type": "markdown",
      "source": [
        "### Uniformity"
      ],
      "metadata": {
        "id": "UiEEO5Xy9Da4"
      }
    },
    {
      "cell_type": "code",
      "source": [
        "# Renaming column names;\n",
        "\n",
        "# Create an example dataframe\n",
        "officials_data = {'Moderator': ['Wanjiku', 'Muthoni', 'Kagure', 'Muema', 'Kariuki'],\n",
        "        'Date': ['2015-02-11', '2013-02-22', '2015-02-11', '2014-02-11', '2011-02-11'],\n",
        "        'Score': [14, 34, 41, 12, 13]}\n",
        "officials_data = pd.DataFrame(officials_data)\n",
        "print(officials_data)\n",
        "\n",
        "print(\"Renamed Columns\")\n",
        "\n",
        "# Renaming the column names\n",
        "officials_data.columns = ['Senior Leader', 'Time', 'Score']\n",
        "print(officials_data)"
      ],
      "metadata": {
        "colab": {
          "base_uri": "https://localhost:8080/"
        },
        "id": "ekQ3A88r9ylZ",
        "outputId": "888579af-1b83-4a7e-cac3-1f47a109448e"
      },
      "execution_count": null,
      "outputs": [
        {
          "output_type": "stream",
          "name": "stdout",
          "text": [
            "  Moderator        Date  Score\n",
            "0   Wanjiku  2015-02-11     14\n",
            "1   Muthoni  2013-02-22     34\n",
            "2    Kagure  2015-02-11     41\n",
            "3     Muema  2014-02-11     12\n",
            "4   Kariuki  2011-02-11     13\n",
            "Renamed Columns\n",
            "  Senior Leader        Time  Score\n",
            "0       Wanjiku  2015-02-11     14\n",
            "1       Muthoni  2013-02-22     34\n",
            "2        Kagure  2015-02-11     41\n",
            "3         Muema  2014-02-11     12\n",
            "4       Kariuki  2011-02-11     13\n"
          ]
        }
      ]
    },
    {
      "cell_type": "code",
      "source": [
        "# Fixing messy column names\n",
        "# Sometimes you might have column names which are uppercase, with spaces,\n",
        "# and whitespace all around. How do we fix this?\n",
        "# We use the .str method that we use on text data.\n",
        "# Ideally, we chain a bunch of .str functions as shown below;\n",
        "#\n",
        "\n",
        "# we use strip(), lower() and replace() functions to clean up the column names using regular expressions\n",
        "officials_data.columns = officials_data.columns.str.strip().str.lower().str.replace(' ', '_').str.replace('(', '').str.replace(')', '')\n",
        "print(officials_data)"
      ],
      "metadata": {
        "colab": {
          "base_uri": "https://localhost:8080/"
        },
        "id": "nWTiBkQCAJ4p",
        "outputId": "8f999711-1d83-430c-9be1-857ad8002a08"
      },
      "execution_count": null,
      "outputs": [
        {
          "output_type": "stream",
          "name": "stdout",
          "text": [
            "  senior_leader        time  score\n",
            "0       Wanjiku  2015-02-11     14\n",
            "1       Muthoni  2013-02-22     34\n",
            "2        Kagure  2015-02-11     41\n",
            "3         Muema  2014-02-11     12\n",
            "4       Kariuki  2011-02-11     13\n"
          ]
        },
        {
          "output_type": "stream",
          "name": "stderr",
          "text": [
            "<ipython-input-16-7d03766c7704>:9: FutureWarning: The default value of regex will change from True to False in a future version. In addition, single character regular expressions will *not* be treated as literal strings when regex=True.\n",
            "  officials_data.columns = officials_data.columns.str.strip().str.lower().str.replace(' ', '_').str.replace('(', '').str.replace(')', '')\n",
            "<ipython-input-16-7d03766c7704>:9: FutureWarning: The default value of regex will change from True to False in a future version. In addition, single character regular expressions will *not* be treated as literal strings when regex=True.\n",
            "  officials_data.columns = officials_data.columns.str.strip().str.lower().str.replace(' ', '_').str.replace('(', '').str.replace(')', '')\n"
          ]
        }
      ]
    },
    {
      "cell_type": "code",
      "source": [
        "# Data Type conversion\n",
        "# Sometimes, especially when we’re reading in a CSV with a bunch of numbers,\n",
        "# some of the numbers will read in as strings instead of numeric values, or vice versa.\n",
        "# Let's fix the release year to be a string and not a number;\n",
        "# In pandas, the datatype string appears as object\n",
        "#\n",
        "\n",
        "# First let's see how our datatypes appear while loading the dataset\n",
        "data = pd.read_csv('http://bit.ly/MovieMetaData')\n",
        "print(data.info())\n",
        "\n",
        "print(\"Data Types of the columns in the dataframe\")\n",
        "\n",
        "# Now let's specify that our 'title year should be cast type as a string'\n",
        "# Uncomment the lines below after running the previous lines\n",
        "data = pd.read_csv('http://bit.ly/MovieMetaData', dtype={'title_year': str})\n",
        "print(data.dtypes)"
      ],
      "metadata": {
        "colab": {
          "base_uri": "https://localhost:8080/"
        },
        "id": "_2fVIYPqAJv3",
        "outputId": "8e759925-d6b6-4cd1-d300-a8bb005b6bb8"
      },
      "execution_count": null,
      "outputs": [
        {
          "output_type": "stream",
          "name": "stdout",
          "text": [
            "<class 'pandas.core.frame.DataFrame'>\n",
            "RangeIndex: 5043 entries, 0 to 5042\n",
            "Data columns (total 28 columns):\n",
            " #   Column                     Non-Null Count  Dtype  \n",
            "---  ------                     --------------  -----  \n",
            " 0   color                      5024 non-null   object \n",
            " 1   director_name              4939 non-null   object \n",
            " 2   num_critic_for_reviews     4993 non-null   float64\n",
            " 3   duration                   5028 non-null   float64\n",
            " 4   director_facebook_likes    4939 non-null   float64\n",
            " 5   actor_3_facebook_likes     5020 non-null   float64\n",
            " 6   actor_2_name               5030 non-null   object \n",
            " 7   actor_1_facebook_likes     5036 non-null   float64\n",
            " 8   gross                      4159 non-null   float64\n",
            " 9   genres                     5043 non-null   object \n",
            " 10  actor_1_name               5036 non-null   object \n",
            " 11  movie_title                5043 non-null   object \n",
            " 12  num_voted_users            5043 non-null   int64  \n",
            " 13  cast_total_facebook_likes  5043 non-null   int64  \n",
            " 14  actor_3_name               5020 non-null   object \n",
            " 15  facenumber_in_poster       5030 non-null   float64\n",
            " 16  plot_keywords              4890 non-null   object \n",
            " 17  movie_imdb_link            5043 non-null   object \n",
            " 18  num_user_for_reviews       5022 non-null   float64\n",
            " 19  language                   5031 non-null   object \n",
            " 20  country                    5038 non-null   object \n",
            " 21  content_rating             4740 non-null   object \n",
            " 22  budget                     4551 non-null   float64\n",
            " 23  title_year                 4935 non-null   float64\n",
            " 24  actor_2_facebook_likes     5030 non-null   float64\n",
            " 25  imdb_score                 5043 non-null   float64\n",
            " 26  aspect_ratio               4714 non-null   float64\n",
            " 27  movie_facebook_likes       5043 non-null   int64  \n",
            "dtypes: float64(13), int64(3), object(12)\n",
            "memory usage: 1.1+ MB\n",
            "None\n",
            "Data Types of the columns in the dataframe\n",
            "color                         object\n",
            "director_name                 object\n",
            "num_critic_for_reviews       float64\n",
            "duration                     float64\n",
            "director_facebook_likes      float64\n",
            "actor_3_facebook_likes       float64\n",
            "actor_2_name                  object\n",
            "actor_1_facebook_likes       float64\n",
            "gross                        float64\n",
            "genres                        object\n",
            "actor_1_name                  object\n",
            "movie_title                   object\n",
            "num_voted_users                int64\n",
            "cast_total_facebook_likes      int64\n",
            "actor_3_name                  object\n",
            "facenumber_in_poster         float64\n",
            "plot_keywords                 object\n",
            "movie_imdb_link               object\n",
            "num_user_for_reviews         float64\n",
            "language                      object\n",
            "country                       object\n",
            "content_rating                object\n",
            "budget                       float64\n",
            "title_year                    object\n",
            "actor_2_facebook_likes       float64\n",
            "imdb_score                   float64\n",
            "aspect_ratio                 float64\n",
            "movie_facebook_likes           int64\n",
            "dtype: object\n"
          ]
        }
      ]
    },
    {
      "cell_type": "code",
      "source": [
        "# Make sure numbers are stored as numerical data types.\n",
        "# A date should be stored as a date object, or a Unix timestamp (number of seconds)\n",
        "\n",
        "# Let's convert our strings to Datetime data type\n",
        "# importing datatime module\n",
        "from datetime import datetime\n",
        "\n",
        "# Creating our data frame\n",
        "data = {'date': ['2015-05-01 18:47:05.069722', '2015-05-01 18:47:05.119994',\n",
        "                 '2015-05-02 18:47:05.178768', '2015-05-02 18:47:05.230071',\n",
        "                 '2015-05-02 18:47:05.230071', '2015-05-02 18:47:05.280592',\n",
        "                 '2015-05-03 18:47:05.332662', '2015-05-03 18:47:05.385109',\n",
        "                 '2015-05-04 18:47:05.436523', '2015-05-04 18:47:05.486877'],\n",
        "        'value': [1, 2, 4, 5, 6, 3, 2, 1, 15, 11]}\n",
        "date_df = pd.DataFrame(data, columns = ['date', 'value'])\n",
        "\n",
        "# printing our dataframe\n",
        "print(date_df.info())\n",
        "\n",
        "# Converting date column from string to datetime\n",
        "date_df['date'] = pd.to_datetime(date_df['date'])\n",
        "\n",
        "# printing our updated dataframe\n",
        "print(date_df.info())"
      ],
      "metadata": {
        "colab": {
          "base_uri": "https://localhost:8080/"
        },
        "id": "GXKxSx9IAJrV",
        "outputId": "36bd11ca-2e44-4836-cbbe-76190e6a1557"
      },
      "execution_count": null,
      "outputs": [
        {
          "output_type": "stream",
          "name": "stdout",
          "text": [
            "<class 'pandas.core.frame.DataFrame'>\n",
            "RangeIndex: 10 entries, 0 to 9\n",
            "Data columns (total 2 columns):\n",
            " #   Column  Non-Null Count  Dtype \n",
            "---  ------  --------------  ----- \n",
            " 0   date    10 non-null     object\n",
            " 1   value   10 non-null     int64 \n",
            "dtypes: int64(1), object(1)\n",
            "memory usage: 288.0+ bytes\n",
            "None\n",
            "<class 'pandas.core.frame.DataFrame'>\n",
            "RangeIndex: 10 entries, 0 to 9\n",
            "Data columns (total 2 columns):\n",
            " #   Column  Non-Null Count  Dtype         \n",
            "---  ------  --------------  -----         \n",
            " 0   date    10 non-null     datetime64[ns]\n",
            " 1   value   10 non-null     int64         \n",
            "dtypes: datetime64[ns](1), int64(1)\n",
            "memory usage: 288.0 bytes\n",
            "None\n"
          ]
        }
      ]
    },
    {
      "cell_type": "markdown",
      "source": [
        "## Data Analysis Basics"
      ],
      "metadata": {
        "id": "R_zNrXeN9DVh"
      }
    },
    {
      "cell_type": "code",
      "source": [
        "# Importing libraries necessary for EDA\n",
        "\n",
        "import pandas as pd\n",
        "import numpy as np\n",
        "import matplotlib.pyplot as plt\n",
        "import seaborn as sns"
      ],
      "metadata": {
        "id": "tFfET7zZ98Ii"
      },
      "execution_count": 1,
      "outputs": []
    },
    {
      "cell_type": "code",
      "source": [
        "# We'll use this dataset to run most of the examples in this section\n",
        "\n",
        "nba_df = pd.read_csv(\"http://bit.ly/MSDS-NBADataset\", index_col = 'Name') # Loading the dataset\n",
        "nba_df.head() # Displaying the first 5 rows of the dataframe"
      ],
      "metadata": {
        "id": "_lhA86w7CnVU"
      },
      "execution_count": null,
      "outputs": []
    },
    {
      "cell_type": "code",
      "source": [
        "# Let's create a function that does some bit of descriptive analysis to understand our dataset\n",
        "\n",
        "def descriptive_stats(data, num_rows=10):\n",
        "    \"\"\"\n",
        "    This function takes a Pandas DataFrame as input and returns a summary of its descriptive statistics, along with some basic visualizations.\n",
        "\n",
        "    Args:\n",
        "        data (pd.DataFrame): A Pandas DataFrame containing the dataset to be analyzed.\n",
        "        num_rows (int): The number of rows from the dataset to display.\n",
        "\n",
        "    Returns:\n",
        "        None. Instead, the function prints the summary statistics and displays the visualizations.\n",
        "    \"\"\"\n",
        "\n",
        "    # Print the first few rows of the dataset\n",
        "    print(\"\\nFirst {} rows of the dataset:\\n\".format(num_rows))\n",
        "    print(data.head(num_rows))\n",
        "\n",
        "    # Print the column data types\n",
        "    print(\"\\nColumn data types:\\n\")\n",
        "    print(data.dtypes)\n",
        "\n",
        "    # Print the missing values count\n",
        "    print(\"\\nMissing values count:\\n\")\n",
        "    print(data.isnull().sum())\n",
        "\n",
        "    # Print the summary statistics\n",
        "    print(\"\\nSummary statistics:\\n\")\n",
        "    print(data.describe())"
      ],
      "metadata": {
        "id": "hMMGunnCCui6"
      },
      "execution_count": null,
      "outputs": []
    },
    {
      "cell_type": "code",
      "source": [
        "# Calling the function on the nba_df dataframe\n",
        "descriptive_stats(nba_df)"
      ],
      "metadata": {
        "id": "cm3o5i-eDgPz"
      },
      "execution_count": null,
      "outputs": []
    },
    {
      "cell_type": "markdown",
      "source": [
        "### Univariate Analysis"
      ],
      "metadata": {
        "id": "fbF4GgKi9DQj"
      }
    },
    {
      "cell_type": "markdown",
      "source": [
        "When conducting any type of analyses on your data you need to consider the variable type.\n",
        "\n",
        "*   For categorical variable we can plot frequency tables; bar charts/histograms; pie charts\n",
        "*   For numerical variables we check the measures of central tendency/dispersion and plots like histograms\n",
        "\n"
      ],
      "metadata": {
        "id": "WYljyT9iDrTq"
      }
    },
    {
      "cell_type": "markdown",
      "source": [
        "#### Categorical Variables"
      ],
      "metadata": {
        "id": "veEVndvE9DLg"
      }
    },
    {
      "cell_type": "code",
      "source": [
        "# frequency tables\n",
        "# A frequency table displays a set of values along with the frequency with which they appear.\n",
        "# They allow us to better understand which data values are common and which are uncommon.\n",
        "# value counts\n",
        "\n",
        "nba_df.Team.value_counts()  # Frequency table of the Team column\n",
        "\n",
        "# use the crosstab function to check frequency of other categorical columns\n",
        "# pd.crosstab(data['col'], '<frequency>')\n",
        "# YOUR CODE HERE"
      ],
      "metadata": {
        "id": "VxlNsnV9-MFZ"
      },
      "execution_count": null,
      "outputs": []
    },
    {
      "cell_type": "code",
      "source": [
        "# bar charts\n",
        "# A bar chart is a graph that represents the categorical data with rectangular bars.\n",
        "# The length of each bar is proportional to the value it represents.\n",
        "# It is used to compare two or more values.\n",
        "\n",
        "# Let's plot a bar chart of the Position column\n",
        "nba_df.groupby('Position').size().plot(kind='barh', color=sns.palettes.mpl_palette('Dark2'))\n",
        "\n",
        "# add title and labels\n",
        "plt.title('Bar chart of Position')\n",
        "plt.xlabel('Frequency')\n",
        "\n",
        "# Remove the top and right spines\n",
        "plt.gca().spines[['top', 'right',]].set_visible(False)"
      ],
      "metadata": {
        "id": "MtqmqHWSD_Qa"
      },
      "execution_count": null,
      "outputs": []
    },
    {
      "cell_type": "code",
      "source": [
        "# bar chart of the Weight column\n",
        "# YOUR CODE HERE\n",
        "\n",
        "# add title and labels\n",
        "# YOUR CODE HERE\n",
        "\n",
        "# Remove the top and right spines\n",
        "# YOUR CODE HERE"
      ],
      "metadata": {
        "id": "s-_3qP8XD_IU"
      },
      "execution_count": null,
      "outputs": []
    },
    {
      "cell_type": "markdown",
      "source": [
        "#### Numerical Variables"
      ],
      "metadata": {
        "id": "F5i09GJ59DGq"
      }
    },
    {
      "cell_type": "code",
      "source": [
        "# measures of central tendency\n",
        "# quick analysis on the measure of central tendency; mean, median, mode\n",
        "# measures of dispersion; range, variance, standard deviation, skewness, kurtosis\n",
        "\n",
        "# Summary statistics of the numerical columns\n",
        "# YOUR CODE HERE"
      ],
      "metadata": {
        "id": "Q7vudVLW-QDp"
      },
      "execution_count": null,
      "outputs": []
    },
    {
      "cell_type": "code",
      "source": [
        "# let's check the skewness and kurtosis of the dataset\n",
        "nba_df.kurt() # Kurtosis of the dataset\n",
        "\n",
        "# Skewness of the dataset\n",
        "# YOUR CODE HERE"
      ],
      "metadata": {
        "id": "M77OJ6YzEOFF"
      },
      "execution_count": null,
      "outputs": []
    },
    {
      "cell_type": "code",
      "source": [
        "# Histograms\n",
        "# A histogram is a graphical representation of the distribution of numerical data.\n",
        "# It is an estimate of the probability distribution of a continuous variable.\n",
        "# It is a kind of bar graph.\n",
        "# To construct a histogram, the first step is to “bin” the range of values\n",
        "# i.e. divide the entire range of values into a series of intervals\n",
        "# and then count how many values fall into each interval.\n",
        "\n",
        "# create histograms for the numerical variables in nba_df\n",
        "# YOUR CODE HERE"
      ],
      "metadata": {
        "id": "WXzDDLPYEOAl"
      },
      "execution_count": null,
      "outputs": []
    },
    {
      "cell_type": "markdown",
      "source": [
        "### Bivariate Analysis"
      ],
      "metadata": {
        "id": "LHfk5fSR9DBA"
      }
    },
    {
      "cell_type": "markdown",
      "source": [
        "#### Categorical | Categorical"
      ],
      "metadata": {
        "id": "nn7WjreE9C7A"
      }
    },
    {
      "cell_type": "code",
      "source": [
        "# Stacked Column Chart\n",
        "# Stacked column charts work well when the focus of the chart is to compare the totals and one part of the totals.\n",
        "# It is a useful graph to visualize the relationship between two categorical variables.\n",
        "# It compares the percentage that each category from one variable contributes to a total across categories of the second variable.\n",
        "\n",
        "# We can create a stacked bar chart through the use of the pyplot.bar() function.\n",
        "# NB: Remember pyplot from when we imported matplotlib.pyplot...\n",
        "# Let's create a simple stacked column chart\n",
        "\n",
        "teams       = ['Kiboko', 'Kifaru', 'Twiga', 'Ndovu'] # The labels for our teams\n",
        "womenPoints = [10 , 25, 40, 23]\n",
        "menPoints   = [10 , 20, 15, 22]\n",
        "\n",
        "X = [team for team in teams] # The label locations\n",
        "\n",
        "plt.bar(X, womenPoints, label='Women') # Plotting\n",
        "plt.bar(X, menPoints, label='Men', bottom = womenPoints)\n",
        "\n",
        "# Labeling our y axis\n",
        "plt.ylabel(\"Points\")\n",
        "\n",
        "# Labeling our x axis\n",
        "plt.xlabel(\"Teams\")\n",
        "\n",
        "# Creating a key/legend for our chart\n",
        "plt.legend(loc=\"upper right\")\n",
        "\n",
        "# Adding a title\n",
        "plt.title(\"Teams vs Points\")\n",
        "\n",
        "# Displaying our chart\n",
        "plt.show()"
      ],
      "metadata": {
        "id": "IFykYLLn-W5q"
      },
      "execution_count": null,
      "outputs": []
    },
    {
      "cell_type": "code",
      "source": [
        "# Create a column chart from the data provided below\n",
        "countries = ['Norway', 'Germany', 'Canada', 'United States', 'Netherlands']\n",
        "bronzes   = np.array([10, 7, 10, 6, 6])\n",
        "silvers   = np.array([14, 10, 8, 8, 6])\n",
        "golds     = np.array([14, 14, 11, 9, 8])\n",
        "\n",
        "# YOUR CODE HERE"
      ],
      "metadata": {
        "id": "fwGAHBhWEdJq"
      },
      "execution_count": null,
      "outputs": []
    },
    {
      "cell_type": "markdown",
      "source": [
        "#### Numerical | Numerical"
      ],
      "metadata": {
        "id": "KU1uNP6M9CzZ"
      }
    },
    {
      "cell_type": "code",
      "source": [
        "# Scatter Plot\n",
        "# A simple scatter plot simply maps each variable of interest to a point in two-dimensional space.\n",
        "# It is used to observe relationships between variables.\n",
        "# The position of each point on the horizontal and vertical axis indicates values for an individual data point.\n",
        "\n",
        "nba_df.plot(kind='scatter', x='Weight', y='Salary', s=32, alpha=.8) # Scatter plot of Weight vs Salary\n",
        "plt.gca().spines[['top', 'right',]].set_visible(False) # Remove the top and right spines\n",
        "\n",
        "# Labeling our x axis\n",
        "# YOUR CODE HERE\n",
        "\n",
        "# Labeling our y axis\n",
        "# YOUR CODE HERE\n",
        "\n",
        "# Adding a title\n",
        "# YOUR CODE HERE\n",
        "\n",
        "# Displaying our chart\n",
        "# YOUR CODE HERE"
      ],
      "metadata": {
        "id": "BK1bLG9b-maR"
      },
      "execution_count": null,
      "outputs": []
    },
    {
      "cell_type": "code",
      "source": [
        "# Create a scatter plot of the Age and Number columns in the nba_df dataframe and add necessary labels and title\n",
        "# YOUR CODE HERE"
      ],
      "metadata": {
        "id": "QMnU5yBYEtZM"
      },
      "execution_count": null,
      "outputs": []
    },
    {
      "cell_type": "code",
      "source": [
        "# Correlation\n",
        "# a statistical measure that describes the association between random variables.\n",
        "# It is a measure of how things are related.\n",
        "\n",
        "\n",
        "# Create a correlation matrix\n",
        "corr_matrix = nba_df.corr()\n",
        "\n",
        "# Plot the correlation matrix as a heatmap\n",
        "sns.heatmap(corr_matrix, annot=True, cmap=\"coolwarm\")\n",
        "plt.show()"
      ],
      "metadata": {
        "id": "0wD-W_R-EtSi"
      },
      "execution_count": null,
      "outputs": []
    },
    {
      "cell_type": "markdown",
      "source": [
        "#### Categorical | Numerical"
      ],
      "metadata": {
        "id": "BaeXwUEB9CoB"
      }
    },
    {
      "cell_type": "code",
      "execution_count": null,
      "metadata": {
        "id": "cDaR-yEv8MlS"
      },
      "outputs": [],
      "source": [
        "# Line Charts\n",
        "# A line chart or line plot is a type of plot which displays information as a series of data points\n",
        "# called 'markers' connected by straight line segments.\n",
        "# It is also used to compare two or more variables.\n",
        "\n",
        "# Loading our dataset\n",
        "bikes_dataset_df = pd.read_csv(\"http://bit.ly/Bikes-Sales-Dataset\")\n",
        "\n",
        "# Plotting our line graph\n",
        "# YOUR CODE HERE\n",
        "\n",
        "# Giving a title to our line graph\n",
        "# YOUR CODE HERE\n",
        "\n",
        "# Labelling the y-axis\n",
        "# YOUR CODE HERE\n",
        "\n",
        "# Labelling the x-axis\n",
        "# YOUR CODE HERE\n",
        "\n",
        "# Displaying our graph\n",
        "# YOUR CODE HERE"
      ]
    },
    {
      "cell_type": "code",
      "source": [
        "# Create a line graph using the data given below\n",
        "# ---\n",
        "#\n",
        "\n",
        "years = [1960, 1970, 1980, 1990, 2000, 2010]\n",
        "population_millions= [449.48, 553.57, 696.783, 870.133, 1000.4, 1309.1]\n",
        "\n",
        "# YOUR CODE HERE"
      ],
      "metadata": {
        "id": "5Ph2jcOrFAGn"
      },
      "execution_count": null,
      "outputs": []
    }
  ]
}